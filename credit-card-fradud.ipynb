{
  "cells": [
    {
      "cell_type": "markdown",
      "metadata": {},
      "source": [
        "---\n",
        "title: \"Proyecto deteccion de fraude en tarjeta de credito\"\n",
        "author: \"Leandro Soto Miranda\"\n",
        "date: \"2024-10-24\"\n",
        "format: \n",
        "  html: \n",
        "    toc: true \n",
        "    code-fold: true\n",
        "---\n",
        "\n",
        "## 1. Definir problema\n",
        "\n",
        "- En este proyecto, analizaremos un conjunto de datos relacionaciodnado con la productividad\n",
        "\n",
        "## 2. Recopilación de datos"
      ]
    },
    {
      "cell_type": "code",
      "metadata": {},
      "source": [
        "# Importación de librerías\n",
        "import pandas as pd\n",
        "import matplotlib.pyplot as plt\n",
        "import numpy as np\n",
        "import seaborn as sns\n",
        "from sklearn.model_selection import train_test_split\n",
        "from sklearn.linear_model import LinearRegression, Ridge, Lasso\n",
        "from sklearn.tree import DecisionTreeRegressor\n",
        "from sklearn.ensemble import RandomForestRegressor\n",
        "from sklearn.metrics import mean_absolute_error, mean_squared_error, r2_score\n",
        "from sklearn.ensemble import StackingRegressor\n",
        "from sklearn.preprocessing import LabelEncoder\n",
        "from sklearn.preprocessing import OneHotEncoder\n",
        "import warnings\n",
        "warnings.filterwarnings('ignore', category=FutureWarning)\n",
        "\n",
        "\n",
        "# Carga de datos\n",
        "df = pd.read_csv('data.csv', sep=\",\")\n",
        "\n",
        "# Resumen estadístico\n",
        "# Mostrar las primeras filas del dataset\n",
        "print(\"Primeras filas del dataset:\")\n",
        "print(df.head())\n",
        "\n",
        "# Mostrar información general del dataset\n",
        "print(\"\\nInformación del dataset:\")\n",
        "print(df.info())\n",
        "\n",
        "# Descripción estadística básica del dataset\n",
        "print(\"\\nDescripción estadística:\")\n",
        "print(df.describe())\n",
        "\n",
        "info = df.shape\n",
        "print(\"\\nLa cantidad de filas y columnas en nuestro dataframe es de:\",info)\n",
        "\n",
        "tipos = df.dtypes\n",
        "print(\"\\nTipos de datos presentes en el dataset:\\n\",tipos)"
      ],
      "execution_count": null,
      "outputs": []
    },
    {
      "cell_type": "markdown",
      "metadata": {},
      "source": [
        "## 3. Análisis de datos por Variable\n",
        "## Análisis de datos cuantitativos"
      ]
    },
    {
      "cell_type": "code",
      "metadata": {},
      "source": [
        "# Función para el análisis univariado de variables cuantitativas\n",
        "def analizar_variable_cuantitativa(df, columna):\n",
        "    mean = np.mean(df[columna])\n",
        "    median = np.median(df[columna])\n",
        "    std = np.std(df[columna])\n",
        "    min_value = np.min(df[columna])\n",
        "    max_value = np.max(df[columna])\n",
        "\n",
        "    print(f\"Análisis de la Variable '{columna}'\")\n",
        "    print(f\"Media: {mean:.2f}\")\n",
        "    print(f\"Mediana: {median:.2f}\")\n",
        "    print(f\"Desviación Estándar: {std:.2f}\")\n",
        "    print(f\"Valor Mínimo: {min_value:.2f}\")\n",
        "    print(f\"Valor Máximo: {max_value:.2f}\")\n",
        "    print(\"\\n\")\n",
        "\n",
        "    # Visualización de la distribución (Histograma con KDE)\n",
        "    plt.figure(figsize=(10, 6))\n",
        "    sns.histplot(df[columna], bins=30, kde=True, color='#4C72B0')\n",
        "    plt.title(f'Distribución de {columna}')\n",
        "    plt.xlabel(columna)\n",
        "    plt.ylabel('Frecuencia')\n",
        "    plt.show()\n",
        "\n",
        "# Aplicar la función a todas las columnas numéricas del dataframe\n",
        "columnas_cuantitativas = df.select_dtypes(include=['int64', 'float64']).columns\n",
        "for columna in columnas_cuantitativas:\n",
        "    analizar_variable_cuantitativa(df, columna)"
      ],
      "execution_count": null,
      "outputs": []
    },
    {
      "cell_type": "markdown",
      "metadata": {},
      "source": [
        "## Análisis de datos cualitativos"
      ]
    },
    {
      "cell_type": "code",
      "metadata": {},
      "source": [
        "# Función para el análisis univariado de variables categóricas\n",
        "def analizar_variable_categorica(df, columna):\n",
        "    values_counts = df[columna].value_counts()\n",
        "    moda = values_counts.idxmax()\n",
        "\n",
        "    print(f\"Análisis Univariado de la Variable '{columna}'\")\n",
        "    print(f\"Frecuencia de las categorías:\\n{values_counts}\")\n",
        "    print(f\"Moda (Categoría más frecuente): {moda}\")\n",
        "    print(\"\\n\")\n",
        "\n",
        "    # Visualización de la distribución\n",
        "    plt.figure(figsize=(10, 6))\n",
        "    sns.countplot(\n",
        "        x=columna, \n",
        "        data=df[df[columna].isin(values_counts.index)], \n",
        "        order=values_counts.index, \n",
        "        palette='Set2'\n",
        "    )\n",
        "    plt.title(f'Distribución de {columna}')\n",
        "    plt.xlabel(columna)\n",
        "    plt.ylabel('Frecuencia')\n",
        "    plt.xticks(rotation=45)\n",
        "    plt.show()\n",
        "\n",
        "# Columnas categóricas a excluir\n",
        "columnas_a_excluir = ['TransactionDate']\n",
        "\n",
        "columnas_categoricas = [col for col in df.select_dtypes(include=['object']).columns if col not in columnas_a_excluir]\n",
        "\n",
        "for columna in columnas_categoricas:\n",
        "    analizar_variable_categorica(df, columna)\n"
      ],
      "execution_count": null,
      "outputs": []
    },
    {
      "cell_type": "markdown",
      "metadata": {},
      "source": [
        "## Verificar si hay patrones o relaciones presentes entre variables\n",
        "\n",
        "## Verificar si hay valores nulos en el dataset\n",
        "### Corrección de valores nulos presentes en el dataset"
      ]
    },
    {
      "cell_type": "code",
      "metadata": {},
      "source": [
        "print(\"\\nValores nulos por columna:\")\n",
        "print(df.isnull().sum())"
      ],
      "execution_count": null,
      "outputs": []
    },
    {
      "cell_type": "markdown",
      "metadata": {},
      "source": [
        "# Procesamiento de datos\n",
        "# Verificar si hay valores atípicos"
      ]
    },
    {
      "cell_type": "code",
      "metadata": {},
      "source": [
        "def generar_boxplot(df, columna):\n",
        "    plt.figure(figsize=(10, 6))\n",
        "    sns.boxplot(data=df, x=columna, palette='Set2')\n",
        "    plt.title(f'Boxplot de {columna}')\n",
        "    plt.xlabel(columna)\n",
        "    plt.show()\n",
        "\n",
        "# Aplicar la función a todas las columnas numéricas del dataframe\n",
        "columnas_numericas = df.select_dtypes(include=['int64', 'float64']).columns\n",
        "for columna in columnas_numericas:\n",
        "    generar_boxplot(df, columna)"
      ],
      "execution_count": null,
      "outputs": []
    },
    {
      "cell_type": "markdown",
      "metadata": {},
      "source": [
        "- Para el tratamiento de datos atípicos lo que vamos a realizar es la imputación de ellos mediante el método intercuartílico, pero también vamos a generar un dataset sin realizar ningún tratamiento de los datos outlayers presentes en el dataset para realizar pruebas posteriormente en la aplicación de modelos de machine learning para ver cuanta diferencia hay entre ambos casos."
      ]
    },
    {
      "cell_type": "code",
      "metadata": {},
      "source": [
        "df_clean = df.copy()\n",
        "\n",
        "variable_objetivo = 'IsFraud'\n",
        "df_sin_objetivo = df_clean.drop(columns=[variable_objetivo])\n",
        "\n",
        "for col in df_sin_objetivo.select_dtypes(include=['int64', 'float64']).columns:\n",
        "    # Calcula Q1 y Q3\n",
        "    Q1 = df_sin_objetivo[col].quantile(0.25)\n",
        "    Q3 = df_sin_objetivo[col].quantile(0.75)\n",
        "    IQR = Q3 - Q1\n",
        "    \n",
        "    # Define los límites inferior y superior\n",
        "    lower_limit = Q1 - 1.5 * IQR\n",
        "    upper_limit = Q3 + 1.5 * IQR\n",
        "\n",
        "    # Imputa los valores atípicos por los límites correspondientes\n",
        "    df_sin_objetivo[col] = np.where(df_sin_objetivo[col] < lower_limit, lower_limit, df_sin_objetivo[col])\n",
        "    df_sin_objetivo[col] = np.where(df_sin_objetivo[col] > upper_limit, upper_limit, df_sin_objetivo[col])\n",
        "\n",
        "# Reinserta la variable objetivo en el DataFrame limpio\n",
        "df_clean = pd.concat([df_sin_objetivo, df_clean[[variable_objetivo]]], axis=1)\n",
        "\n",
        "# Verificamos algunos valores antes y después de la limpieza\n",
        "print(\"Datos antes de la limpieza:\")\n",
        "print(df.describe())\n",
        "print(\"\\nDatos después de la limpieza:\")\n",
        "print(df_clean.describe())"
      ],
      "execution_count": null,
      "outputs": []
    },
    {
      "cell_type": "markdown",
      "metadata": {},
      "source": [
        "- Lo que realizamos aqui es explir nuestra varialbe objetivo la cual es IsFraud ya que uno de los princip[ales problemas es que al tenere pocos datos para uno de los valores lo clasificaba como outlayer y a la hora de apklciarldo estos datos se eliminaban, si bien son pocos datos lo que se iban eliminando siguen siendo importantes para la posterior balanceo de datos]\n",
        "\n",
        "## Preparación de datos\n",
        "### Vamos a realizar el tratamiento de datos pasos a realizar\n",
        "### Convertir datos categóricos a numéricos para esto vamos a aplicar one hot encoder y label conder dependiendo a tipo de dato\n",
        "### Además de convertir los datos categóricos en general para aplicar estos datos en modelos de machine learning, además de verificar el balanceo de datos y aplicación de técnicas para corregir variables con outlayers"
      ]
    },
    {
      "cell_type": "code",
      "metadata": {},
      "source": [
        "for column in df.columns:\n",
        "    unique_values = df[column].unique()\n",
        "    print(f\"Valores únicos en la columna '{column}':\")\n",
        "    print(unique_values)\n",
        "    print(\"\\n------------------------------------\\n\")"
      ],
      "execution_count": null,
      "outputs": []
    },
    {
      "cell_type": "markdown",
      "metadata": {},
      "source": [
        "## LabelEncoder\n",
        "\n",
        "### Variables Ninguna\n",
        "\n",
        "## OneHotEncoder\n",
        "\n",
        "### Variables: Location, TransactionType"
      ]
    },
    {
      "cell_type": "code",
      "metadata": {},
      "source": [
        "# Aplicar One-Hot Encoding\n",
        "df = pd.get_dummies(df, columns=['Location'])\n",
        "df = pd.get_dummies(df, columns=['TransactionType'])\n",
        "# datos sin outlayers\n",
        "df_clean = pd.get_dummies(df_clean, columns=['Location'])\n",
        "df_clean = pd.get_dummies(df_clean, columns=['TransactionType'])"
      ],
      "execution_count": null,
      "outputs": []
    },
    {
      "cell_type": "code",
      "metadata": {},
      "source": [
        "for column in df.columns:\n",
        "    unique_values = df[column].unique()\n",
        "    print(f\"Valores únicos en la columna '{column}':\")\n",
        "    print(unique_values)\n",
        "    print(\"\\n------------------------------------\\n\")"
      ],
      "execution_count": null,
      "outputs": []
    },
    {
      "cell_type": "markdown",
      "metadata": {},
      "source": [
        "### Verificacion sobre el balance de los datos de la variable IsFraud, para posterior tratamiento\n",
        "- Con esto tenemos un problema, nuestra variable objetivo esta demasiado desbalanceada, po lo que tendremos que aplicar balanceo de datos ya bien sea con oversample (SMOTE) a la variable minoritaria o undersample a nuestra variable mayoritaria"
      ]
    },
    {
      "cell_type": "code",
      "metadata": {},
      "source": [
        "variable = 'IsFraud'\n",
        "balance = df[variable].value_counts(normalize=True) * 100\n",
        "\n",
        "print(f\"Distribución de '{variable}':\")\n",
        "print(balance)\n",
        "\n",
        "# Visualizar distribución con un gráfico de barras\n",
        "plt.figure(figsize=(8, 5))\n",
        "sns.countplot(data=df, x=variable, order=balance.index, palette=\"viridis\")\n",
        "plt.title(f\"Distribución de la variable '{variable}'\")\n",
        "plt.xlabel(variable)\n",
        "plt.ylabel(\"Frecuencia\")\n",
        "plt.xticks(rotation=45)\n",
        "plt.show()"
      ],
      "execution_count": null,
      "outputs": []
    },
    {
      "cell_type": "markdown",
      "metadata": {},
      "source": [
        "### SMOTE (Synthetic Minority Over-sampling Technique)"
      ]
    },
    {
      "cell_type": "code",
      "metadata": {},
      "source": [
        "from imblearn.over_sampling import SMOTE\n",
        "from sklearn.model_selection import train_test_split\n",
        "\n",
        "# Dividir en variables predictoras y objetivo\n",
        "X = df.drop(columns=['IsFraud','TransactionDate','TransactionType','Location'])\n",
        "y = df['IsFraud']\n",
        "\n",
        "# Aplicar SMOTE\n",
        "smote = SMOTE(random_state=42)\n",
        "X_smote, y_smote = smote.fit_resample(X, y)\n",
        "\n",
        "# Crear el nuevo dataset balanceado con SMOTE\n",
        "df_smote = X_smote.copy()\n",
        "df_smote['IsFraud'] = y_smote\n",
        "\n",
        "print(\"Distribución después de SMOTE:\\n\", df_smote['IsFraud'].value_counts(normalize=True))\n"
      ],
      "execution_count": null,
      "outputs": []
    },
    {
      "cell_type": "code",
      "metadata": {},
      "source": [
        "df_smote"
      ],
      "execution_count": null,
      "outputs": []
    },
    {
      "cell_type": "markdown",
      "metadata": {},
      "source": [
        "### Ponderación de Clases"
      ]
    },
    {
      "cell_type": "code",
      "metadata": {},
      "source": [
        "from sklearn.linear_model import LogisticRegression\n",
        "\n",
        "# Modelo de Regresión Logística con ponderación de clases\n",
        "model_weighted = LogisticRegression(class_weight='balanced', random_state=42)\n",
        "\n",
        "# Dividir los datos en entrenamiento y prueba\n",
        "X_train, X_test, y_train, y_test = train_test_split(X, y, test_size=0.2, random_state=42)\n",
        "\n",
        "# Entrenar el modelo\n",
        "model_weighted.fit(X_train, y_train)\n",
        "\n",
        "# Evaluación\n",
        "accuracy = model_weighted.score(X_test, y_test)\n",
        "print(f\"Accuracy con ponderación de clases: {accuracy}\")"
      ],
      "execution_count": null,
      "outputs": []
    },
    {
      "cell_type": "markdown",
      "metadata": {},
      "source": [
        "### SMOTE + Submuestreo de la Clase Mayoritaria"
      ]
    },
    {
      "cell_type": "code",
      "metadata": {},
      "source": [
        "from imblearn.under_sampling import RandomUnderSampler\n",
        "from imblearn.pipeline import Pipeline\n",
        "\n",
        "# Crear el pipeline de SMOTE y submuestreo aleatorio\n",
        "smote = SMOTE(random_state=42)\n",
        "undersample = RandomUnderSampler(random_state=42)\n",
        "pipeline = Pipeline(steps=[('smote', smote), ('undersample', undersample)])\n",
        "\n",
        "# Aplicar el pipeline\n",
        "X_smote_undersample, y_smote_undersample = pipeline.fit_resample(X, y)\n",
        "\n",
        "# Crear el nuevo dataset balanceado con SMOTE + Submuestreo\n",
        "df_smote_undersample = X_smote_undersample.copy()\n",
        "df_smote_undersample['IsFraud'] = y_smote_undersample\n",
        "\n",
        "print(\"Distribución después de SMOTE + Submuestreo:\\n\", df_smote_undersample['IsFraud'].value_counts(normalize=True))"
      ],
      "execution_count": null,
      "outputs": []
    },
    {
      "cell_type": "code",
      "metadata": {},
      "source": [
        "df_smote_undersample"
      ],
      "execution_count": null,
      "outputs": []
    },
    {
      "cell_type": "code",
      "metadata": {},
      "source": [
        "# Calcular la matriz de correlación\n",
        "corr_matrix = df.corr()\n",
        "\n",
        "# Generar el mapa de calor\n",
        "plt.figure(figsize=(10, 8))\n",
        "sns.heatmap(corr_matrix, annot=True, cmap='coolwarm', vmin=-1, vmax=1)\n",
        "plt.title('Mapa de calor de la correlación entre variables')\n",
        "plt.show()"
      ],
      "execution_count": null,
      "outputs": []
    },
    {
      "cell_type": "code",
      "metadata": {},
      "source": [
        "# Calcular la matriz de correlación\n",
        "correlation_matrix = df.corr()\n",
        "\n",
        "# Filtrar solo las correlaciones con la variable objetivo\n",
        "target_corr = correlation_matrix['Productivity_Score'].sort_values(ascending=False)\n",
        "print(\"Correlación de cada variable con 'Productivity_Score':\\n\", target_corr)"
      ],
      "execution_count": null,
      "outputs": []
    },
    {
      "cell_type": "markdown",
      "metadata": {},
      "source": [
        "# Aplicación de modelos de machine learning\n",
        "\n",
        "## Predicción con datos atípicos"
      ]
    },
    {
      "cell_type": "code",
      "metadata": {},
      "source": [
        "# Separar las características (X) y la variable objetivo (y)\n",
        "X = df.drop(columns=['Productivity_Score','Employee_ID' ])  # Todas las columnas excepto la variable objetivo\n",
        "y = df['Productivity_Score']  # La variable objetivo\n",
        "\n",
        "# Dividir el conjunto de datos en conjunto de entrenamiento y prueba\n",
        "X_train, X_test, y_train, y_test = train_test_split(X, y, test_size=0.25, random_state=42)\n",
        "\n",
        "# Lista de modelos de regresión para evaluar\n",
        "models = {\n",
        "    \"Regresión Lineal\": LinearRegression(),\n",
        "    \"Regresión Ridge\": Ridge(alpha=1.0),\n",
        "    \"Regresión Lasso\": Lasso(alpha=0.1),\n",
        "    \"Árbol de Decisión\": DecisionTreeRegressor(random_state=42,),\n",
        "    \"Random Forest\": RandomForestRegressor(n_estimators=100, random_state=42)\n",
        "}\n",
        "results = []\n",
        "\n",
        "# Entrenar y evaluar cada modelo\n",
        "for model_name, model in models.items():\n",
        "    model.fit(X_train, y_train)\n",
        "    y_pred = model.predict(X_test)\n",
        "    \n",
        "    mae = mean_absolute_error(y_test, y_pred)\n",
        "    rmse = np.sqrt(mean_squared_error(y_test, y_pred))\n",
        "    r2 = r2_score(y_test, y_pred)\n",
        "    \n",
        "    # Almacenar los resultados\n",
        "    results.append({\n",
        "        \"Modelo\": model_name,\n",
        "        \"MAE\": mae,\n",
        "        \"RMSE\": rmse,\n",
        "        \"R^2\": r2\n",
        "    })\n",
        "\n",
        "# Convertir los resultados en un DataFrame\n",
        "results_df = pd.DataFrame(results)\n",
        "\n",
        "# Mostrar los resultados ordenados por R^2\n",
        "print(results_df.sort_values(by=\"R^2\", ascending=False))"
      ],
      "execution_count": null,
      "outputs": []
    },
    {
      "cell_type": "code",
      "metadata": {},
      "source": [
        "# Variables utilizadas\n",
        "print(\"Variables utilizadas en el modelo:\")\n",
        "print(X.columns)"
      ],
      "execution_count": null,
      "outputs": []
    },
    {
      "cell_type": "code",
      "metadata": {},
      "source": [
        "# Separar las variables independientes y la variable objetivo\n",
        "X = df.drop(columns=['Productivity_Score','Employee_ID'])\n",
        "y = df['Productivity_Score']\n",
        "\n",
        "# Dividir el conjunto de datos\n",
        "X_train, X_test, y_train, y_test = train_test_split(X, y, test_size=0.25, random_state=42)\n",
        "\n",
        "# Definir los modelos base\n",
        "base_models = [\n",
        "    ('linear', LinearRegression()),\n",
        "    ('random_forest', RandomForestRegressor(n_estimators=100, random_state=42))\n",
        "]\n",
        "\n",
        "# Definir el modelo meta\n",
        "meta_model = LinearRegression()\n",
        "\n",
        "# Crear el Stacking Regressor\n",
        "stacking_model = StackingRegressor(estimators=base_models, final_estimator=meta_model)\n",
        "\n",
        "# Entrenar el modelo\n",
        "stacking_model.fit(X_train, y_train)\n",
        "\n",
        "# Hacer predicciones\n",
        "y_pred = stacking_model.predict(X_test)\n",
        "\n",
        "# Evaluar el modelo\n",
        "mae = mean_absolute_error(y_test, y_pred)\n",
        "rmse = np.sqrt(mean_squared_error(y_test, y_pred))\n",
        "r2 = r2_score(y_test, y_pred)\n",
        "\n",
        "# Mostrar resultados\n",
        "print(\"Resultados del Stacking Regressor\")\n",
        "print(f\"MAE: {mae:.4f}\")\n",
        "print(f\"RMSE: {rmse:.4f}\")\n",
        "print(f\"R^2: {r2:.4f}\")"
      ],
      "execution_count": null,
      "outputs": []
    },
    {
      "cell_type": "markdown",
      "metadata": {},
      "source": [
        "## Predicción sin datos atípicos"
      ]
    },
    {
      "cell_type": "code",
      "metadata": {},
      "source": [
        "# Separar las características (X) y la variable objetivo (y)\n",
        "X = df_clean.drop(columns=['Productivity_Score','Employee_ID'])  # Todas las columnas excepto la variable objetivo\n",
        "y = df_clean['Productivity_Score']  # La variable objetivo\n",
        "\n",
        "# Dividir el conjunto de datos en conjunto de entrenamiento y prueba\n",
        "X_train, X_test, y_train, y_test = train_test_split(X, y, test_size=0.25, random_state=42)\n",
        "\n",
        "# Lista de modelos de regresión para evaluar\n",
        "models = {\n",
        "    \"Regresión Lineal\": LinearRegression(),\n",
        "    \"Regresión Ridge\": Ridge(alpha=1.0),\n",
        "    \"Regresión Lasso\": Lasso(alpha=0.1),\n",
        "    \"Árbol de Decisión\": DecisionTreeRegressor(random_state=42,),\n",
        "    \"Random Forest\": RandomForestRegressor(n_estimators=100, random_state=42)\n",
        "}\n",
        "results = []\n",
        "\n",
        "# Entrenar y evaluar cada modelo\n",
        "for model_name, model in models.items():\n",
        "    model.fit(X_train, y_train)\n",
        "    y_pred = model.predict(X_test)\n",
        "    \n",
        "    mae = mean_absolute_error(y_test, y_pred)\n",
        "    rmse = np.sqrt(mean_squared_error(y_test, y_pred))\n",
        "    r2 = r2_score(y_test, y_pred)\n",
        "    \n",
        "    # Almacenar los resultados\n",
        "    results.append({\n",
        "        \"Modelo\": model_name,\n",
        "        \"MAE\": mae,\n",
        "        \"RMSE\": rmse,\n",
        "        \"R^2\": r2\n",
        "    })\n",
        "\n",
        "# Convertir los resultados en un DataFrame\n",
        "results_df = pd.DataFrame(results)\n",
        "\n",
        "# Mostrar los resultados ordenados por R^2\n",
        "print(results_df.sort_values(by=\"R^2\", ascending=False))"
      ],
      "execution_count": null,
      "outputs": []
    },
    {
      "cell_type": "code",
      "metadata": {},
      "source": [
        "# Variables utilizadas\n",
        "print(\"Variables utilizadas en el modelo:\")\n",
        "print(X.columns)"
      ],
      "execution_count": null,
      "outputs": []
    },
    {
      "cell_type": "code",
      "metadata": {},
      "source": [
        "# Separar las variables independientes y la variable objetivo\n",
        "X = df_clean.drop(columns=['Productivity_Score','Employee_ID'])\n",
        "y = df_clean['Productivity_Score']\n",
        "\n",
        "# Dividir el conjunto de datos\n",
        "X_train, X_test, y_train, y_test = train_test_split(X, y, test_size=0.25, random_state=42)\n",
        "\n",
        "# Definir los modelos base\n",
        "base_models = [\n",
        "    ('linear', LinearRegression()),\n",
        "    ('random_forest', RandomForestRegressor(n_estimators=100, random_state=42))\n",
        "]\n",
        "\n",
        "# Definir el modelo meta\n",
        "meta_model = LinearRegression()\n",
        "\n",
        "# Crear el Stacking Regressor\n",
        "stacking_model = StackingRegressor(estimators=base_models, final_estimator=meta_model)\n",
        "\n",
        "# Entrenar el modelo\n",
        "stacking_model.fit(X_train, y_train)\n",
        "\n",
        "# Hacer predicciones\n",
        "y_pred = stacking_model.predict(X_test)\n",
        "\n",
        "# Evaluar el modelo\n",
        "mae = mean_absolute_error(y_test, y_pred)\n",
        "rmse = np.sqrt(mean_squared_error(y_test, y_pred))\n",
        "r2 = r2_score(y_test, y_pred)\n",
        "\n",
        "# Mostrar resultados\n",
        "print(\"Resultados del Stacking Regressor\")\n",
        "print(f\"MAE: {mae:.4f}\")\n",
        "print(f\"RMSE: {rmse:.4f}\")\n",
        "print(f\"R^2: {r2:.4f}\")\n",
        "\n",
        "model.predict(X)"
      ],
      "execution_count": null,
      "outputs": []
    }
  ],
  "metadata": {
    "kernelspec": {
      "name": "python3",
      "language": "python",
      "display_name": "Python 3 (ipykernel)",
      "path": "C:\\Users\\lea\\AppData\\Roaming\\Python\\share\\jupyter\\kernels\\python3"
    }
  },
  "nbformat": 4,
  "nbformat_minor": 4
}